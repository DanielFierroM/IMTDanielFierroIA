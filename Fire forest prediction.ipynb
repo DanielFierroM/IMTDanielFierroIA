{
  "nbformat": 4,
  "nbformat_minor": 0,
  "metadata": {
    "colab": {
      "name": "Untitled1.ipynb",
      "provenance": [],
      "authorship_tag": "ABX9TyNk85Ea23EjOTXoKVBHJbN5",
      "include_colab_link": true
    },
    "kernelspec": {
      "name": "python3",
      "display_name": "Python 3"
    },
    "language_info": {
      "name": "python"
    }
  },
  "cells": [
    {
      "cell_type": "markdown",
      "metadata": {
        "id": "view-in-github",
        "colab_type": "text"
      },
      "source": [
        "<a href=\"https://colab.research.google.com/github/DanielFierroM/IMTDanielFierroIA/blob/main/Fire%20forest%20prediction.ipynb\" target=\"_parent\"><img src=\"https://colab.research.google.com/assets/colab-badge.svg\" alt=\"Open In Colab\"/></a>"
      ]
    },
    {
      "cell_type": "code",
      "metadata": {
        "colab": {
          "base_uri": "https://localhost:8080/"
        },
        "id": "IrMcDi4-H_8d",
        "outputId": "6543cec0-b05e-40b7-9b24-80a51c9b00a1"
      },
      "source": [
        "import pandas as pd\n",
        "import numpy as np\n",
        "df = pd.read_csv('/content/sample_data/forestfires.csv', usecols= [\"X\",\"Y\",\"FFMC\",\"DMC\",\"DC\",\"ISI\",\"temp\",\"RH\",\"wind\",\"rain\",\"area\"])\n",
        "df.fillna(0,inplace=True)   #Fill with cero in case of empty data\n",
        "print(df)\n",
        "features = [\"X\",\"Y\",\"FFMC\",\"DMC\",\"DC\",\"ISI\",\"temp\",\"RH\",\"wind\",\"rain\"]\n",
        "df_X = df[features]\n",
        "df_Y = df[\"area\"]\n",
        "\n",
        "\"\"\"SPLIT IN TRAINING AND TEST DATASETS\"\"\"\n",
        "from sklearn.model_selection import train_test_split\n",
        "dfX_train, dfX_test, dfY_train, dfY_test = train_test_split(df_X,df_Y,test_size=0.2)#means 20 percent of DS goes to testing\n",
        "\n",
        "\"\"\"\"BUILD THE LINEAR REGRESION MODEL\"\"\"\n",
        "from sklearn import linear_model\n",
        "model = linear_model.LinearRegression()\n",
        "model.fit(dfX_train, dfY_train)  #Using 80 percent of data for training\n",
        "Y_pred = model.predict(dfX_test)\n",
        "\n",
        "\"\"\"Prediction results\"\"\"\n",
        "from sklearn.metrics import mean_squared_error, r2_score\n",
        "print(\"\\n---------------MODEL-------------------------\")\n",
        "print(\"Coefficients: {} \\n\".format(model.coef_))\n",
        "print(\"Intercept: {}\".format(model.intercept_))\n",
        "print(\"Mean Squared error: {}\".format(mean_squared_error(dfY_test, Y_pred)))\n",
        "print(\"Coefficient of determination: {}\".format(r2_score(dfY_test, Y_pred)))\n",
        "print(\"---------------------------------------------\\n\")\n",
        "\n",
        "\"\"\"USER INSTANCE\"\"\"\n",
        "while(True):\n",
        "    userData = []\n",
        "    userData.append(int(input(\"What is the coordinate in X from 1 to 9?--> \")))\n",
        "    userData.append(int(input(\"What is the coordinate in Y from 2 to 9?---> \")))\n",
        "    userData.append(float(input(\"FFMC index, from 18.7 to 96.20--> \")))\n",
        "    userData.append(float(input(\"DMC index, from 1.1 to 291.3--> \")))\n",
        "    userData.append(float(input(\"DC index, from 7.9 to 860.6--> \")))\n",
        "    userData.append(float(input(\"ISI index, from 0.0 to 56.10--> \")))\n",
        "    userData.append(float(input(\"Temperature in Celsius degrees, from 2.2 to 33.30 --> \")))\n",
        "    userData.append(float(input(\"% of Relative Humidity (RH), from 15 to 100--> \")))\n",
        "    userData.append(float(input(\"wind speed in km/h, from 0.40 to 9.40--> \")))\n",
        "    userData.append(float(input(\"outside rain in mm/mm2, from 0.0 to 6.4--> \")))\n",
        "\n",
        "    df_user = pd.DataFrame([userData],columns = features)\n",
        "    print(\"Your expected burned area is (in ha): {}\".format(model.predict(df_user)))\n",
        "\n",
        "    option= int(input(\"Do you want change the parameters?--> 1.Yes  2.No\"))\n",
        "    if (option == 2):\n",
        "        break"
      ],
      "execution_count": 7,
      "outputs": [
        {
          "output_type": "stream",
          "text": [
            "     X  Y  FFMC    DMC     DC   ISI  temp  RH  wind  rain   area\n",
            "0    7  5  86.2   26.2   94.3   5.1   8.2  51   6.7   0.0   0.00\n",
            "1    7  4  90.6   35.4  669.1   6.7  18.0  33   0.9   0.0   0.00\n",
            "2    7  4  90.6   43.7  686.9   6.7  14.6  33   1.3   0.0   0.00\n",
            "3    8  6  91.7   33.3   77.5   9.0   8.3  97   4.0   0.2   0.00\n",
            "4    8  6  89.3   51.3  102.2   9.6  11.4  99   1.8   0.0   0.00\n",
            "..  .. ..   ...    ...    ...   ...   ...  ..   ...   ...    ...\n",
            "512  4  3  81.6   56.7  665.6   1.9  27.8  32   2.7   0.0   6.44\n",
            "513  2  4  81.6   56.7  665.6   1.9  21.9  71   5.8   0.0  54.29\n",
            "514  7  4  81.6   56.7  665.6   1.9  21.2  70   6.7   0.0  11.16\n",
            "515  1  4  94.4  146.0  614.7  11.3  25.6  42   4.0   0.0   0.00\n",
            "516  6  3  79.5    3.0  106.7   1.1  11.8  31   4.5   0.0   0.00\n",
            "\n",
            "[517 rows x 11 columns]\n",
            "\n",
            "---------------MODEL-------------------------\n",
            "Coefficients: [ 2.21859439e+00  1.92608094e+00 -8.06272368e-02  8.72704254e-02\n",
            " -4.44652602e-03 -8.08909581e-01  1.06056707e+00 -2.19862658e-01\n",
            "  2.23856050e+00 -2.23113865e+01] \n",
            "\n",
            "Intercept: -16.196554208638922\n",
            "Mean Squared error: 831.5614206037618\n",
            "Coefficient of determination: -0.6397851072499994\n",
            "---------------------------------------------\n",
            "\n",
            "What is the coordinate in X from 1 to 9?--> 2\n",
            "What is the coordinate in Y from 2 to 9?---> 4\n",
            "FFMC index, from 18.7 to 96.20--> 93.6\n",
            "DMC index, from 1.1 to 291.3--> 97.9\n",
            "DC index, from 7.9 to 860.6--> 542\n",
            "ISI index, from 0.0 to 56.10--> 14.4\n",
            "Temperature in Celsius degrees, from 2.2 to 33.30 --> 28.3\n",
            "% of Relative Humidity (RH), from 15 to 100--> 32\n",
            "wind speed in km/h, from 0.40 to 9.40--> 4\n",
            "outside rain in mm/mm2, from 0.0 to 6.4--> 0\n",
            "Your expected burned area is (in ha): [14.81639357]\n",
            "Do you want change the parameters?--> 1.Yes  2.No2\n"
          ],
          "name": "stdout"
        }
      ]
    }
  ]
}