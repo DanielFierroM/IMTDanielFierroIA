{
  "nbformat": 4,
  "nbformat_minor": 0,
  "metadata": {
    "colab": {
      "name": "Untitled1.ipynb",
      "provenance": [],
      "collapsed_sections": [],
      "authorship_tag": "ABX9TyNewwEipDSdTGxpiQkTb5ys",
      "include_colab_link": true
    },
    "kernelspec": {
      "name": "python3",
      "display_name": "Python 3"
    },
    "language_info": {
      "name": "python"
    }
  },
  "cells": [
    {
      "cell_type": "markdown",
      "metadata": {
        "id": "view-in-github",
        "colab_type": "text"
      },
      "source": [
        "<a href=\"https://colab.research.google.com/github/DanielFierroM/IMTDanielFierroIA/blob/main/Fireforest.ipynb\" target=\"_parent\"><img src=\"https://colab.research.google.com/assets/colab-badge.svg\" alt=\"Open In Colab\"/></a>"
      ]
    },
    {
      "cell_type": "code",
      "metadata": {
        "id": "IrMcDi4-H_8d"
      },
      "source": [
        "import pandas as pd\n",
        "import numpy as np\n",
        "df = pd.read_csv('/content/sample_data/forestfires.csv', usecols= [\"X\",\"Y\",\"FFMC\",\"DMC\",\"DC\",\"ISI\",\"temp\",\"RH\",\"wind\",\"rain\",\"area\"])\n",
        "df.fillna(0,inplace=True)   #Fill with cero in case of empty data\n",
        "print(df)\n",
        "features = [\"X\",\"Y\",\"FFMC\",\"DMC\",\"DC\",\"ISI\",\"temp\",\"RH\",\"wind\",\"rain\"]\n",
        "df_X = df[features]\n",
        "df_Y = df[\"area\"]\n",
        "\n",
        "\"\"\"Split and Training data sets\"\"\"\n",
        "from sklearn.model_selection import train_test_split\n",
        "dfX_train, dfX_test, dfY_train, dfY_test = train_test_split(df_X,df_Y,test_size=0.2)#means 20 percent of DS goes to testing\n",
        "\n",
        "\"\"\"\"Build the linear regression model\"\"\"\n",
        "from sklearn import linear_model\n",
        "model = linear_model.LinearRegression()\n",
        "model.fit(dfX_train, dfY_train)  #Using 80 percent of data for training\n",
        "Y_pred = model.predict(dfX_test)\n",
        "\n",
        "\"\"\"Prediction results\"\"\"\n",
        "from sklearn.metrics import mean_squared_error, r2_score\n",
        "print(\"\\n MODEL\")\n",
        "print(\"Intercept: {}\".format(model.intercept_))\n",
        "print(\"Coefficient of determination: {}\".format(r2_score(dfY_test, Y_pred)))\n",
        "print(\"Mean Squared error: {}\".format(mean_squared_error(dfY_test, Y_pred)))\n",
        "print(\"\\n\")\n",
        "\n",
        "\"\"\"User menu\"\"\"\n",
        "while(True):\n",
        "    userData = []\n",
        "    userData.append(int(input(\"What is the coordinate in X from 1 to 9?--> \")))\n",
        "    userData.append(int(input(\"What is the coordinate in Y from 2 to 9?---> \")))\n",
        "    userData.append(float(input(\"FFMC index, from 18.7 to 96.20--> \")))\n",
        "    userData.append(float(input(\"DMC index, from 1.1 to 291.3--> \")))\n",
        "    userData.append(float(input(\"DC index, from 7.9 to 860.6--> \")))\n",
        "    userData.append(float(input(\"ISI index, from 0.0 to 56.10--> \")))\n",
        "    userData.append(float(input(\"Temperature in Celsius degrees, from 2.2 to 33.30 --> \")))\n",
        "    userData.append(float(input(\"% of Relative Humidity (RH), from 15 to 100--> \")))\n",
        "    userData.append(float(input(\"wind speed in km/h, from 0.40 to 9.40--> \")))\n",
        "    userData.append(float(input(\"outside rain in mm/mm2, from 0.0 to 6.4--> \")))\n",
        "\n",
        "    df_user = pd.DataFrame([userData],columns = features)\n",
        "    print(\"Your expected burned area is (in ha): {}\".format(model.predict(df_user)))\n",
        "\n",
        "    option= int(input(\"Do you want change the parameters?--> 1.Yes  2.No\"))\n",
        "    if (option == 2):\n",
        "        break"
      ],
      "execution_count": null,
      "outputs": []
    }
  ]
}